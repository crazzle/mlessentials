{
 "cells": [
  {
   "cell_type": "code",
   "execution_count": 20,
   "metadata": {},
   "outputs": [
    {
     "name": "stdout",
     "output_type": "stream",
     "text": [
      "Requirement already satisfied: onnxruntime in /usr/local/lib/python3.7/site-packages (1.1.1)\n",
      "Requirement already satisfied: skl2onnx in /usr/local/lib/python3.7/site-packages (1.6.0)\n",
      "Requirement already satisfied: protobuf in /usr/local/lib/python3.7/site-packages (from skl2onnx) (3.11.3)\n",
      "Requirement already satisfied: scikit-learn>=0.19 in /usr/local/lib/python3.7/site-packages (from skl2onnx) (0.21.3)\n",
      "Requirement already satisfied: onnxconverter-common>=1.5.1 in /usr/local/lib/python3.7/site-packages (from skl2onnx) (1.6.0)\n",
      "Requirement already satisfied: six in /usr/local/lib/python3.7/site-packages (from skl2onnx) (1.14.0)\n",
      "Requirement already satisfied: onnx>=1.2.1 in /usr/local/lib/python3.7/site-packages (from skl2onnx) (1.6.0)\n",
      "Requirement already satisfied: numpy>=1.15 in /usr/local/lib/python3.7/site-packages (from skl2onnx) (1.17.5)\n",
      "Requirement already satisfied: setuptools in /usr/local/lib/python3.7/site-packages (from protobuf->skl2onnx) (45.1.0)\n",
      "Requirement already satisfied: scipy>=0.17.0 in /usr/local/lib/python3.7/site-packages (from scikit-learn>=0.19->skl2onnx) (1.4.1)\n",
      "Requirement already satisfied: joblib>=0.11 in /usr/local/lib/python3.7/site-packages (from scikit-learn>=0.19->skl2onnx) (0.14.1)\n",
      "Requirement already satisfied: typing-extensions>=3.6.2.1 in /usr/local/lib/python3.7/site-packages (from onnx>=1.2.1->skl2onnx) (3.7.4.1)\n"
     ]
    }
   ],
   "source": [
    "!pip install onnxruntime\n",
    "!pip install skl2onnx"
   ]
  },
  {
   "cell_type": "code",
   "execution_count": 21,
   "metadata": {},
   "outputs": [],
   "source": [
    "from sklearn.tree import DecisionTreeClassifier\n",
    "from sklearn.tree.export import export_text\n",
    "from sklearn import datasets\n",
    "from skl2onnx.common.data_types import FloatTensorType\n",
    "import onnxruntime as rt\n",
    "import numpy as np\n",
    "from skl2onnx import convert_sklearn"
   ]
  },
  {
   "cell_type": "markdown",
   "metadata": {},
   "source": [
    "## ONNX\n",
    "ONNX (Open Neural Network Exchange) makes it possible to combine different frameworks for training and inference. E.g. a simple decision tree can be trained using scikit-learn and then deployed to TensorFlow Serving. It helps combining different frameworks to gain as much potential from different technologies as possible.\n",
    "\n",
    "- ONNX describes a calculation graph\n",
    "- ONNX provides several converter libraries (e.g. sklearn-onnx)"
   ]
  },
  {
   "cell_type": "markdown",
   "metadata": {},
   "source": [
    "## Train model based on the iris dataset"
   ]
  },
  {
   "cell_type": "code",
   "execution_count": 23,
   "metadata": {},
   "outputs": [],
   "source": [
    "iris = datasets.load_iris()\n",
    "decision_tree = DecisionTreeClassifier(max_depth=2)\n",
    "model = decision_tree.fit(iris.data, iris.target)"
   ]
  },
  {
   "cell_type": "markdown",
   "metadata": {},
   "source": [
    "## Define the input vector"
   ]
  },
  {
   "cell_type": "code",
   "execution_count": 24,
   "metadata": {},
   "outputs": [],
   "source": [
    "input = [('float_input', FloatTensorType([None, 4]))]"
   ]
  },
  {
   "cell_type": "markdown",
   "metadata": {},
   "source": [
    "## Export model to protocol buffer"
   ]
  },
  {
   "cell_type": "code",
   "execution_count": 25,
   "metadata": {},
   "outputs": [],
   "source": [
    "onx = convert_sklearn(model, initial_types=input)\n",
    "with open(\"model.onnx\", \"wb\") as f:\n",
    "    f.write(onx.SerializeToString())"
   ]
  },
  {
   "cell_type": "markdown",
   "metadata": {},
   "source": [
    "ONNX provides converters for CoreML, Keras, TensorFlow, PyTorch und XGBoost"
   ]
  },
  {
   "cell_type": "markdown",
   "metadata": {},
   "source": [
    "## Do a quick Test!"
   ]
  },
  {
   "cell_type": "markdown",
   "metadata": {},
   "source": [
    "The trained model can now be distributed in several ways:\n",
    "\n",
    "- Using a Model-Server like TF-Serving or Intel's OpenVino\n",
    "- Embed inference into application using ONNX-Runtime\n"
   ]
  },
  {
   "cell_type": "markdown",
   "metadata": {},
   "source": [
    "## An example using ONNX-Runtime"
   ]
  },
  {
   "cell_type": "code",
   "execution_count": 27,
   "metadata": {},
   "outputs": [],
   "source": [
    "dataset = iris.data[0:1]\n",
    "sess = rt.InferenceSession(\"model.onnx\")\n",
    "input = sess.get_inputs()[0].name\n",
    "result = sess.run(None, input_feed={input: dataset.astype(np.float32)})[0]"
   ]
  },
  {
   "cell_type": "code",
   "execution_count": 28,
   "metadata": {},
   "outputs": [
    {
     "name": "stdout",
     "output_type": "stream",
     "text": [
      "[0]\n"
     ]
    }
   ],
   "source": [
    "print(result)"
   ]
  },
  {
   "cell_type": "markdown",
   "metadata": {},
   "source": [
    "## Problems"
   ]
  },
  {
   "cell_type": "markdown",
   "metadata": {},
   "source": [
    "ONNX does - unfortunately - not support TensorFlow 2.0 right now. That's why we cannot deploy our model to TensorFlow Serving."
   ]
  }
 ],
 "metadata": {
  "kernelspec": {
   "display_name": "Python 3",
   "language": "python",
   "name": "python3"
  },
  "language_info": {
   "codemirror_mode": {
    "name": "ipython",
    "version": 3
   },
   "file_extension": ".py",
   "mimetype": "text/x-python",
   "name": "python",
   "nbconvert_exporter": "python",
   "pygments_lexer": "ipython3",
   "version": "3.7.6"
  }
 },
 "nbformat": 4,
 "nbformat_minor": 4
}
